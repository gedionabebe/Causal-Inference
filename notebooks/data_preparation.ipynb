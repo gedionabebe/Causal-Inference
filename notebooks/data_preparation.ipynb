{
 "cells": [
  {
   "cell_type": "code",
   "execution_count": 15,
   "metadata": {},
   "outputs": [],
   "source": [
    "import pandas as pd\n",
    "import numpy as np\n",
    "from sklearn.preprocessing import LabelEncoder\n",
    "from sklearn.preprocessing import MinMaxScaler"
   ]
  },
  {
   "cell_type": "code",
   "execution_count": 2,
   "metadata": {},
   "outputs": [],
   "source": [
    "data = pd.read_csv('../data/merged_data.csv')"
   ]
  },
  {
   "cell_type": "code",
   "execution_count": 3,
   "metadata": {},
   "outputs": [],
   "source": [
    "data['Trip Start Time']=pd.to_datetime(data['Trip Start Time'])\n",
    "data['Trip End Time']=pd.to_datetime(data['Trip End Time'])"
   ]
  },
  {
   "cell_type": "code",
   "execution_count": 5,
   "metadata": {},
   "outputs": [],
   "source": [
    "data['Month'] = data['Trip Start Time'].apply(lambda x: x.month)\n",
    "data['Day_of_week'] = data['Trip Start Time'].apply(lambda x: x.dayofweek)"
   ]
  },
  {
   "cell_type": "code",
   "execution_count": 7,
   "metadata": {},
   "outputs": [],
   "source": [
    "data['fulfilled'] = False"
   ]
  },
  {
   "cell_type": "code",
   "execution_count": 8,
   "metadata": {},
   "outputs": [],
   "source": [
    "data['fulfilled'] = np.where((data['order_id'] == data['Trip ID']) & (data['driver_action'] == 'accepted'),True,data['fulfilled'])"
   ]
  },
  {
   "cell_type": "code",
   "execution_count": 9,
   "metadata": {},
   "outputs": [],
   "source": [
    "data.dropna(inplace=True)"
   ]
  },
  {
   "cell_type": "code",
   "execution_count": null,
   "metadata": {},
   "outputs": [],
   "source": [
    "data.head()"
   ]
  },
  {
   "cell_type": "code",
   "execution_count": 11,
   "metadata": {},
   "outputs": [],
   "source": [
    "data.drop(columns=['Trip Origin','Trip Destination','id','order_id','driver_id','Trip ID','Trip End Time','Trip Start Time','lat','lng','Trip_Origin_long','Trip_Destination_long','Trip_Origin_lat','Trip_Destination_lat'],inplace=True)"
   ]
  },
  {
   "cell_type": "code",
   "execution_count": 12,
   "metadata": {},
   "outputs": [
    {
     "data": {
      "text/html": [
       "<div>\n",
       "<style scoped>\n",
       "    .dataframe tbody tr th:only-of-type {\n",
       "        vertical-align: middle;\n",
       "    }\n",
       "\n",
       "    .dataframe tbody tr th {\n",
       "        vertical-align: top;\n",
       "    }\n",
       "\n",
       "    .dataframe thead th {\n",
       "        text-align: right;\n",
       "    }\n",
       "</style>\n",
       "<table border=\"1\" class=\"dataframe\">\n",
       "  <thead>\n",
       "    <tr style=\"text-align: right;\">\n",
       "      <th></th>\n",
       "      <th>driver_action</th>\n",
       "      <th>duration</th>\n",
       "      <th>distance</th>\n",
       "      <th>holiday</th>\n",
       "      <th>pilot_distance</th>\n",
       "      <th>Month</th>\n",
       "      <th>Day_of_week</th>\n",
       "      <th>fulfilled</th>\n",
       "    </tr>\n",
       "  </thead>\n",
       "  <tbody>\n",
       "    <tr>\n",
       "      <th>0</th>\n",
       "      <td>accepted</td>\n",
       "      <td>3.0</td>\n",
       "      <td>20.984319</td>\n",
       "      <td>False</td>\n",
       "      <td>0.694264</td>\n",
       "      <td>7.0</td>\n",
       "      <td>3.0</td>\n",
       "      <td>True</td>\n",
       "    </tr>\n",
       "    <tr>\n",
       "      <th>1</th>\n",
       "      <td>rejected</td>\n",
       "      <td>3.0</td>\n",
       "      <td>20.984319</td>\n",
       "      <td>False</td>\n",
       "      <td>1.551694</td>\n",
       "      <td>7.0</td>\n",
       "      <td>3.0</td>\n",
       "      <td>False</td>\n",
       "    </tr>\n",
       "    <tr>\n",
       "      <th>2</th>\n",
       "      <td>rejected</td>\n",
       "      <td>3.0</td>\n",
       "      <td>20.984319</td>\n",
       "      <td>False</td>\n",
       "      <td>0.786777</td>\n",
       "      <td>7.0</td>\n",
       "      <td>3.0</td>\n",
       "      <td>False</td>\n",
       "    </tr>\n",
       "    <tr>\n",
       "      <th>3</th>\n",
       "      <td>rejected</td>\n",
       "      <td>3.0</td>\n",
       "      <td>20.984319</td>\n",
       "      <td>False</td>\n",
       "      <td>0.692054</td>\n",
       "      <td>7.0</td>\n",
       "      <td>3.0</td>\n",
       "      <td>False</td>\n",
       "    </tr>\n",
       "    <tr>\n",
       "      <th>4</th>\n",
       "      <td>rejected</td>\n",
       "      <td>3.0</td>\n",
       "      <td>20.984319</td>\n",
       "      <td>False</td>\n",
       "      <td>1.621848</td>\n",
       "      <td>7.0</td>\n",
       "      <td>3.0</td>\n",
       "      <td>False</td>\n",
       "    </tr>\n",
       "  </tbody>\n",
       "</table>\n",
       "</div>"
      ],
      "text/plain": [
       "  driver_action  duration   distance  holiday  pilot_distance  Month  \\\n",
       "0      accepted       3.0  20.984319    False        0.694264    7.0   \n",
       "1      rejected       3.0  20.984319    False        1.551694    7.0   \n",
       "2      rejected       3.0  20.984319    False        0.786777    7.0   \n",
       "3      rejected       3.0  20.984319    False        0.692054    7.0   \n",
       "4      rejected       3.0  20.984319    False        1.621848    7.0   \n",
       "\n",
       "   Day_of_week  fulfilled  \n",
       "0          3.0       True  \n",
       "1          3.0      False  \n",
       "2          3.0      False  \n",
       "3          3.0      False  \n",
       "4          3.0      False  "
      ]
     },
     "execution_count": 12,
     "metadata": {},
     "output_type": "execute_result"
    }
   ],
   "source": [
    "data.head()"
   ]
  },
  {
   "cell_type": "code",
   "execution_count": 26,
   "metadata": {},
   "outputs": [
    {
     "data": {
      "text/html": [
       "<div>\n",
       "<style scoped>\n",
       "    .dataframe tbody tr th:only-of-type {\n",
       "        vertical-align: middle;\n",
       "    }\n",
       "\n",
       "    .dataframe tbody tr th {\n",
       "        vertical-align: top;\n",
       "    }\n",
       "\n",
       "    .dataframe thead th {\n",
       "        text-align: right;\n",
       "    }\n",
       "</style>\n",
       "<table border=\"1\" class=\"dataframe\">\n",
       "  <thead>\n",
       "    <tr style=\"text-align: right;\">\n",
       "      <th></th>\n",
       "      <th>driver_action</th>\n",
       "      <th>duration</th>\n",
       "      <th>distance</th>\n",
       "      <th>holiday</th>\n",
       "      <th>pilot_distance</th>\n",
       "      <th>Month</th>\n",
       "      <th>Day_of_week</th>\n",
       "      <th>fulfilled</th>\n",
       "    </tr>\n",
       "  </thead>\n",
       "  <tbody>\n",
       "    <tr>\n",
       "      <th>0</th>\n",
       "      <td>0</td>\n",
       "      <td>3.0</td>\n",
       "      <td>20.984319</td>\n",
       "      <td>0</td>\n",
       "      <td>0.694264</td>\n",
       "      <td>7.0</td>\n",
       "      <td>3.0</td>\n",
       "      <td>1</td>\n",
       "    </tr>\n",
       "    <tr>\n",
       "      <th>1</th>\n",
       "      <td>1</td>\n",
       "      <td>3.0</td>\n",
       "      <td>20.984319</td>\n",
       "      <td>0</td>\n",
       "      <td>1.551694</td>\n",
       "      <td>7.0</td>\n",
       "      <td>3.0</td>\n",
       "      <td>0</td>\n",
       "    </tr>\n",
       "    <tr>\n",
       "      <th>2</th>\n",
       "      <td>1</td>\n",
       "      <td>3.0</td>\n",
       "      <td>20.984319</td>\n",
       "      <td>0</td>\n",
       "      <td>0.786777</td>\n",
       "      <td>7.0</td>\n",
       "      <td>3.0</td>\n",
       "      <td>0</td>\n",
       "    </tr>\n",
       "    <tr>\n",
       "      <th>3</th>\n",
       "      <td>1</td>\n",
       "      <td>3.0</td>\n",
       "      <td>20.984319</td>\n",
       "      <td>0</td>\n",
       "      <td>0.692054</td>\n",
       "      <td>7.0</td>\n",
       "      <td>3.0</td>\n",
       "      <td>0</td>\n",
       "    </tr>\n",
       "    <tr>\n",
       "      <th>4</th>\n",
       "      <td>1</td>\n",
       "      <td>3.0</td>\n",
       "      <td>20.984319</td>\n",
       "      <td>0</td>\n",
       "      <td>1.621848</td>\n",
       "      <td>7.0</td>\n",
       "      <td>3.0</td>\n",
       "      <td>0</td>\n",
       "    </tr>\n",
       "  </tbody>\n",
       "</table>\n",
       "</div>"
      ],
      "text/plain": [
       "   driver_action  duration   distance  holiday  pilot_distance  Month  \\\n",
       "0              0       3.0  20.984319        0        0.694264    7.0   \n",
       "1              1       3.0  20.984319        0        1.551694    7.0   \n",
       "2              1       3.0  20.984319        0        0.786777    7.0   \n",
       "3              1       3.0  20.984319        0        0.692054    7.0   \n",
       "4              1       3.0  20.984319        0        1.621848    7.0   \n",
       "\n",
       "   Day_of_week  fulfilled  \n",
       "0          3.0          1  \n",
       "1          3.0          0  \n",
       "2          3.0          0  \n",
       "3          3.0          0  \n",
       "4          3.0          0  "
      ]
     },
     "execution_count": 26,
     "metadata": {},
     "output_type": "execute_result"
    }
   ],
   "source": [
    "non_numeric_columns = list(data.select_dtypes(exclude=[np.number]).columns)\n",
    "le = LabelEncoder()\n",
    "\n",
    "for col in non_numeric_columns:\n",
    "    data[col] = le.fit_transform(data[col])\n",
    "\n",
    "data.head(5)"
   ]
  },
  {
   "cell_type": "code",
   "execution_count": 25,
   "metadata": {},
   "outputs": [
    {
     "name": "stdout",
     "output_type": "stream",
     "text": [
      "<class 'pandas.core.frame.DataFrame'>\n",
      "Int64Index: 1555718 entries, 0 to 1557739\n",
      "Data columns (total 8 columns):\n",
      " #   Column          Non-Null Count    Dtype  \n",
      "---  ------          --------------    -----  \n",
      " 0   driver_action   1555718 non-null  int32  \n",
      " 1   duration        1555718 non-null  float64\n",
      " 2   distance        1555718 non-null  float64\n",
      " 3   holiday         1555718 non-null  int64  \n",
      " 4   pilot_distance  1555718 non-null  float64\n",
      " 5   Month           1555718 non-null  float64\n",
      " 6   Day_of_week     1555718 non-null  float64\n",
      " 7   fulfilled       1555718 non-null  int64  \n",
      "dtypes: float64(5), int32(1), int64(2)\n",
      "memory usage: 100.9 MB\n"
     ]
    }
   ],
   "source": [
    "data.info()"
   ]
  },
  {
   "cell_type": "code",
   "execution_count": 27,
   "metadata": {},
   "outputs": [],
   "source": [
    "data.to_csv(\"../data/processed_data.csv\",index=False)"
   ]
  }
 ],
 "metadata": {
  "kernelspec": {
   "display_name": "Python 3.9.1 64-bit",
   "language": "python",
   "name": "python3"
  },
  "language_info": {
   "codemirror_mode": {
    "name": "ipython",
    "version": 3
   },
   "file_extension": ".py",
   "mimetype": "text/x-python",
   "name": "python",
   "nbconvert_exporter": "python",
   "pygments_lexer": "ipython3",
   "version": "3.9.1"
  },
  "orig_nbformat": 4,
  "vscode": {
   "interpreter": {
    "hash": "81794d4967e6c3204c66dcd87b604927b115b27c00565d3d43f05ba2f3a2cb0d"
   }
  }
 },
 "nbformat": 4,
 "nbformat_minor": 2
}
